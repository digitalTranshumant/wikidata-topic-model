{
 "cells": [
  {
   "cell_type": "markdown",
   "metadata": {},
   "source": [
    "# Join Wikidata Items topics with their corresponding Wikipedia Article"
   ]
  },
  {
   "cell_type": "code",
   "execution_count": 1,
   "metadata": {},
   "outputs": [],
   "source": [
    "#upload of the 01AssignTopics.ipynb output to hadoop\n",
    "!hadoop fs -put topicsForAllWikidataItems.csv"
   ]
  },
  {
   "cell_type": "code",
   "execution_count": 4,
   "metadata": {},
   "outputs": [],
   "source": [
    "#load topics \n",
    "topicsPerWikidata = spark.read.csv('topicsForAllWikidataItems.csv',header=True)"
   ]
  },
  {
   "cell_type": "code",
   "execution_count": 15,
   "metadata": {},
   "outputs": [],
   "source": [
    "#get site links\n",
    "QwithPage = spark.sql('''SELECT \n",
    "item_id as wikidata_item, page_id, page_title, wiki_db\n",
    "FROM wmf.wikidata_item_page_link  \n",
    "WHERE snapshot=\"2020-03-30\" AND page_namespace=0''')"
   ]
  },
  {
   "cell_type": "code",
   "execution_count": 14,
   "metadata": {},
   "outputs": [
    {
     "name": "stdout",
     "output_type": "stream",
     "text": [
      "+-------------+-------+----------------------------------+-----------+\n",
      "|wikidata_item|page_id|                        page_title|    wiki_db|\n",
      "+-------------+-------+----------------------------------+-----------+\n",
      "|      Q829765|2923078|                            Hrsina|     nlwiki|\n",
      "|     Q7063533|1156290|              野付風蓮道立自然公園|     jawiki|\n",
      "|     Q4435993|1821283|                  Adrianus_Gijzels|     nlwiki|\n",
      "|    Q14538627|1225186|                   Pelomyia_lobina|    cebwiki|\n",
      "|      Q146760|  41648|                              Avea|     glwiki|\n",
      "|      Q142329| 530663|                      1684_Iguassú|     huwiki|\n",
      "|      Q587709| 828166|                         2K11_Krug|commonswiki|\n",
      "|     Q3838950|3951227|              Луций_Турций_Апро...|     ruwiki|\n",
      "|    Q28414248|5481817|1995年花蓮縣選舉區立法委員缺額補選|     zhwiki|\n",
      "|    Q16485463|1698709|              Lista_över_fornlä...|     svwiki|\n",
      "|     Q1142761| 586940|                  Jakucho_Setouchi| simplewiki|\n",
      "|    Q21727058|5528215|              Mejdani_(kulle_i_...|     svwiki|\n",
      "|     Q4938687| 404503|                              보종|     kowiki|\n",
      "|     Q3029238| 431843|                    Dipsas_sazimai|     euwiki|\n",
      "|    Q14732685|1535634|                  Patelloa_similis|    warwiki|\n",
      "|     Q7710239|6737649|                         ثين_هاوسر|     arwiki|\n",
      "|    Q22660393|4535935|                  Ravenscrag_Point|    cebwiki|\n",
      "|     Q2750698|2485469|              Aulacophora_sordi...|     nlwiki|\n",
      "|      Q363750|1885740|              Gran_Premio_della...|     itwiki|\n",
      "|      Q261823|  52753|                         Minaxorlu|     azwiki|\n",
      "+-------------+-------+----------------------------------+-----------+\n",
      "only showing top 20 rows\n",
      "\n"
     ]
    }
   ],
   "source": [
    "QwithPage.show()"
   ]
  },
  {
   "cell_type": "code",
   "execution_count": null,
   "metadata": {},
   "outputs": [],
   "source": []
  }
 ],
 "metadata": {
  "kernelspec": {
   "display_name": "PySpark - YARN",
   "language": "python",
   "name": "spark_yarn_pyspark"
  },
  "language_info": {
   "codemirror_mode": {
    "name": "ipython",
    "version": 3
   },
   "file_extension": ".py",
   "mimetype": "text/x-python",
   "name": "python",
   "nbconvert_exporter": "python",
   "pygments_lexer": "ipython3",
   "version": "3.5.3"
  }
 },
 "nbformat": 4,
 "nbformat_minor": 4
}
